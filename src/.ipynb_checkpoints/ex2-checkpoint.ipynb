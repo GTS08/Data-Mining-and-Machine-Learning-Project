{
 "cells": [
  {
   "cell_type": "markdown",
   "id": "ba8fd3a2",
   "metadata": {},
   "source": [
    "# Exercise 2"
   ]
  },
  {
   "cell_type": "markdown",
   "id": "e381f95a",
   "metadata": {},
   "source": [
    "## Import Necessary Libraries"
   ]
  },
  {
   "cell_type": "code",
   "execution_count": 1,
   "id": "af12ce27",
   "metadata": {},
   "outputs": [
    {
     "name": "stdout",
     "output_type": "stream",
     "text": [
      "Setup Complete\n"
     ]
    }
   ],
   "source": [
    "import numpy as np\n",
    "import pandas as pd\n",
    "\n",
    "from tensorflow.keras.preprocessing.sequence import pad_sequences\n",
    "from tensorflow.keras.preprocessing.text import Tokenizer\n",
    "\n",
    "from tensorflow.keras.models import Sequential\n",
    "from tensorflow.keras.layers import Dense\n",
    "from tensorflow.keras.layers import Flatten\n",
    "from tensorflow.keras.layers import Dropout\n",
    "from tensorflow.keras.layers import Embedding\n",
    "from tensorflow.keras.callbacks import EarlyStopping\n",
    "\n",
    "from sklearn.model_selection import train_test_split\n",
    "from sklearn.metrics import classification_report\n",
    "\n",
    "print(\"Setup Complete\")"
   ]
  },
  {
   "cell_type": "code",
   "execution_count": 2,
   "id": "c0806943",
   "metadata": {},
   "outputs": [],
   "source": [
    "# Path of the file to read\n",
    "spam_filepath = \"../datasets/spam_or_not_spam.csv\"\n",
    "\n",
    "# Read the file into a variable spam_data\n",
    "spam_data = pd.read_csv(spam_filepath)\n",
    "\n",
    "# Set seed for reproducibility\n",
    "np.random.seed(0)"
   ]
  },
  {
   "cell_type": "markdown",
   "id": "729f5ce8",
   "metadata": {},
   "source": [
    "## Prepare The Dataset"
   ]
  },
  {
   "cell_type": "code",
   "execution_count": 3,
   "id": "6ed4befa",
   "metadata": {},
   "outputs": [
    {
     "data": {
      "text/html": [
       "<div>\n",
       "<style scoped>\n",
       "    .dataframe tbody tr th:only-of-type {\n",
       "        vertical-align: middle;\n",
       "    }\n",
       "\n",
       "    .dataframe tbody tr th {\n",
       "        vertical-align: top;\n",
       "    }\n",
       "\n",
       "    .dataframe thead th {\n",
       "        text-align: right;\n",
       "    }\n",
       "</style>\n",
       "<table border=\"1\" class=\"dataframe\">\n",
       "  <thead>\n",
       "    <tr style=\"text-align: right;\">\n",
       "      <th></th>\n",
       "      <th>email</th>\n",
       "      <th>label</th>\n",
       "    </tr>\n",
       "  </thead>\n",
       "  <tbody>\n",
       "    <tr>\n",
       "      <th>0</th>\n",
       "      <td>mike bostock said received from trackingNUMBE...</td>\n",
       "      <td>0</td>\n",
       "    </tr>\n",
       "    <tr>\n",
       "      <th>1</th>\n",
       "      <td>no i was just a little confused because i m r...</td>\n",
       "      <td>0</td>\n",
       "    </tr>\n",
       "    <tr>\n",
       "      <th>2</th>\n",
       "      <td>this is just an semi educated guess if i m wro...</td>\n",
       "      <td>0</td>\n",
       "    </tr>\n",
       "    <tr>\n",
       "      <th>3</th>\n",
       "      <td>jm URL justin mason writes except for NUMBER t...</td>\n",
       "      <td>0</td>\n",
       "    </tr>\n",
       "    <tr>\n",
       "      <th>4</th>\n",
       "      <td>i just picked up razor sdk NUMBER NUMBER and N...</td>\n",
       "      <td>0</td>\n",
       "    </tr>\n",
       "    <tr>\n",
       "      <th>...</th>\n",
       "      <td>...</td>\n",
       "      <td>...</td>\n",
       "    </tr>\n",
       "    <tr>\n",
       "      <th>1495</th>\n",
       "      <td>abc s good morning america ranks it the NUMBE...</td>\n",
       "      <td>1</td>\n",
       "    </tr>\n",
       "    <tr>\n",
       "      <th>1496</th>\n",
       "      <td>hyperlink hyperlink hyperlink let mortgage le...</td>\n",
       "      <td>1</td>\n",
       "    </tr>\n",
       "    <tr>\n",
       "      <th>1497</th>\n",
       "      <td>thank you for shopping with us gifts for all ...</td>\n",
       "      <td>1</td>\n",
       "    </tr>\n",
       "    <tr>\n",
       "      <th>1498</th>\n",
       "      <td>the famous ebay marketing e course learn to s...</td>\n",
       "      <td>1</td>\n",
       "    </tr>\n",
       "    <tr>\n",
       "      <th>1499</th>\n",
       "      <td>hello this is chinese traditional 子 件 NUMBER世...</td>\n",
       "      <td>1</td>\n",
       "    </tr>\n",
       "  </tbody>\n",
       "</table>\n",
       "<p>1500 rows × 2 columns</p>\n",
       "</div>"
      ],
      "text/plain": [
       "                                                  email  label\n",
       "0      mike bostock said received from trackingNUMBE...      0\n",
       "1      no i was just a little confused because i m r...      0\n",
       "2     this is just an semi educated guess if i m wro...      0\n",
       "3     jm URL justin mason writes except for NUMBER t...      0\n",
       "4     i just picked up razor sdk NUMBER NUMBER and N...      0\n",
       "...                                                 ...    ...\n",
       "1495   abc s good morning america ranks it the NUMBE...      1\n",
       "1496   hyperlink hyperlink hyperlink let mortgage le...      1\n",
       "1497   thank you for shopping with us gifts for all ...      1\n",
       "1498   the famous ebay marketing e course learn to s...      1\n",
       "1499   hello this is chinese traditional 子 件 NUMBER世...      1\n",
       "\n",
       "[1500 rows x 2 columns]"
      ]
     },
     "execution_count": 3,
     "metadata": {},
     "output_type": "execute_result"
    }
   ],
   "source": [
    "spam_data"
   ]
  },
  {
   "cell_type": "code",
   "execution_count": 4,
   "id": "939153ee",
   "metadata": {},
   "outputs": [
    {
     "name": "stdout",
     "output_type": "stream",
     "text": [
      "<class 'pandas.core.frame.DataFrame'>\n",
      "RangeIndex: 1500 entries, 0 to 1499\n",
      "Data columns (total 2 columns):\n",
      " #   Column  Non-Null Count  Dtype \n",
      "---  ------  --------------  ----- \n",
      " 0   email   1499 non-null   object\n",
      " 1   label   1500 non-null   int64 \n",
      "dtypes: int64(1), object(1)\n",
      "memory usage: 23.6+ KB\n"
     ]
    }
   ],
   "source": [
    "# Check for missing values\n",
    "spam_data.info()"
   ]
  },
  {
   "cell_type": "code",
   "execution_count": 5,
   "id": "92959a26",
   "metadata": {},
   "outputs": [],
   "source": [
    "# Drop missing values\n",
    "spam_data.dropna(inplace=True)"
   ]
  },
  {
   "cell_type": "code",
   "execution_count": 6,
   "id": "8796dc86",
   "metadata": {},
   "outputs": [],
   "source": [
    "# Split the data\n",
    "X = spam_data[\"email\"].values\n",
    "y = spam_data[\"label\"].values\n",
    "X_train, X_test, y_train, y_test = train_test_split(X, y, test_size=0.25, random_state=0)"
   ]
  },
  {
   "cell_type": "code",
   "execution_count": 7,
   "id": "a9fcbeed",
   "metadata": {},
   "outputs": [],
   "source": [
    "# Prepare tokenizer\n",
    "t = Tokenizer()\n",
    "t.fit_on_texts(X_train)"
   ]
  },
  {
   "cell_type": "code",
   "execution_count": 8,
   "id": "1d3d50a4",
   "metadata": {},
   "outputs": [],
   "source": [
    "# Integer encode the documents\n",
    "encoded_train = t.texts_to_sequences(X_train)\n",
    "encoded_test = t.texts_to_sequences(X_test)"
   ]
  },
  {
   "cell_type": "code",
   "execution_count": 9,
   "id": "55e2e31d",
   "metadata": {},
   "outputs": [],
   "source": [
    "# Pad documents to a max length of 1000 words\n",
    "max_length = 1000\n",
    "padded_train = pad_sequences(encoded_train, maxlen=max_length, padding='post')\n",
    "padded_test = pad_sequences(encoded_test, maxlen=max_length, padding='post')"
   ]
  },
  {
   "cell_type": "markdown",
   "id": "aa505892",
   "metadata": {},
   "source": [
    "## Build Deep Learning Model"
   ]
  },
  {
   "cell_type": "code",
   "execution_count": 10,
   "id": "a7ea3b2d",
   "metadata": {},
   "outputs": [
    {
     "name": "stdout",
     "output_type": "stream",
     "text": [
      "Model: \"sequential\"\n",
      "_________________________________________________________________\n",
      "Layer (type)                 Output Shape              Param #   \n",
      "=================================================================\n",
      "embedding (Embedding)        (None, 1000, 24)          473088    \n",
      "_________________________________________________________________\n",
      "flatten (Flatten)            (None, 24000)             0         \n",
      "_________________________________________________________________\n",
      "dense (Dense)                (None, 500)               12000500  \n",
      "_________________________________________________________________\n",
      "dense_1 (Dense)              (None, 200)               100200    \n",
      "_________________________________________________________________\n",
      "dropout (Dropout)            (None, 200)               0         \n",
      "_________________________________________________________________\n",
      "dense_2 (Dense)              (None, 100)               20100     \n",
      "_________________________________________________________________\n",
      "dense_3 (Dense)              (None, 1)                 101       \n",
      "=================================================================\n",
      "Total params: 12,593,989\n",
      "Trainable params: 12,593,989\n",
      "Non-trainable params: 0\n",
      "_________________________________________________________________\n",
      "None\n"
     ]
    }
   ],
   "source": [
    "vocab_size = len(t.word_index) + 1 # Add 1 because of 0s of padding\n",
    "\n",
    "# Define the model\n",
    "model = Sequential()\n",
    "model.add(Embedding(vocab_size, 24, input_length=max_length))\n",
    "model.add(Flatten())\n",
    "model.add(Dense(500, activation='relu'))\n",
    "model.add(Dense(200, activation='relu'))\n",
    "model.add(Dropout(0.5))\n",
    "model.add(Dense(100, activation='relu'))\n",
    "model.add(Dense(1, activation='sigmoid'))\n",
    "\n",
    "# Compile the model\n",
    "model.compile(optimizer='rmsprop', loss='binary_crossentropy', metrics=['accuracy'])\n",
    "\n",
    "# Summarize the model\n",
    "print(model.summary())"
   ]
  },
  {
   "cell_type": "code",
   "execution_count": 11,
   "id": "247d2f31",
   "metadata": {},
   "outputs": [
    {
     "name": "stdout",
     "output_type": "stream",
     "text": [
      "Epoch 1/50\n",
      "36/36 [==============================] - 6s 147ms/step - loss: 0.9380 - accuracy: 0.5991 - val_loss: 0.5329 - val_accuracy: 0.7147\n",
      "Epoch 2/50\n",
      "36/36 [==============================] - 5s 135ms/step - loss: 0.3588 - accuracy: 0.8527 - val_loss: 0.0936 - val_accuracy: 0.9600\n",
      "Epoch 3/50\n",
      "36/36 [==============================] - 5s 134ms/step - loss: 0.1019 - accuracy: 0.9518 - val_loss: 0.0859 - val_accuracy: 0.9733\n",
      "Epoch 4/50\n",
      "36/36 [==============================] - 5s 127ms/step - loss: 0.0200 - accuracy: 0.9927 - val_loss: 0.0951 - val_accuracy: 0.9707\n",
      "Epoch 5/50\n",
      "36/36 [==============================] - 6s 158ms/step - loss: 0.0050 - accuracy: 0.9981 - val_loss: 0.1489 - val_accuracy: 0.9547\n",
      "Epoch 6/50\n",
      "36/36 [==============================] - 5s 151ms/step - loss: 0.0025 - accuracy: 0.9982 - val_loss: 0.1749 - val_accuracy: 0.9627\n",
      "Epoch 7/50\n",
      "36/36 [==============================] - 5s 149ms/step - loss: 0.0056 - accuracy: 0.9974 - val_loss: 0.3793 - val_accuracy: 0.9520\n",
      "Epoch 8/50\n",
      "36/36 [==============================] - 5s 142ms/step - loss: 5.2793e-04 - accuracy: 1.0000 - val_loss: 0.1441 - val_accuracy: 0.9813\n",
      "Epoch 9/50\n",
      "36/36 [==============================] - 5s 132ms/step - loss: 9.7910e-05 - accuracy: 1.0000 - val_loss: 0.3283 - val_accuracy: 0.9547\n",
      "Epoch 10/50\n",
      "36/36 [==============================] - 5s 135ms/step - loss: 6.5807e-05 - accuracy: 1.0000 - val_loss: 0.2321 - val_accuracy: 0.9627\n",
      "Epoch 11/50\n",
      "36/36 [==============================] - 6s 169ms/step - loss: 3.3562e-06 - accuracy: 1.0000 - val_loss: 0.2170 - val_accuracy: 0.9733\n",
      "Epoch 12/50\n",
      "36/36 [==============================] - 5s 134ms/step - loss: 2.8571e-07 - accuracy: 1.0000 - val_loss: 0.2233 - val_accuracy: 0.9733\n",
      "Epoch 13/50\n",
      "36/36 [==============================] - 6s 168ms/step - loss: 6.4255e-08 - accuracy: 1.0000 - val_loss: 0.2462 - val_accuracy: 0.9733\n",
      "Epoch 00013: early stopping\n"
     ]
    },
    {
     "data": {
      "text/plain": [
       "<tensorflow.python.keras.callbacks.History at 0x7f4aa50f1070>"
      ]
     },
     "execution_count": 11,
     "metadata": {},
     "output_type": "execute_result"
    }
   ],
   "source": [
    "# Define early stopping\n",
    "early_stop = EarlyStopping(monitor='val_loss', mode='min', verbose=1, patience=10)\n",
    "\n",
    "# Fit the model\n",
    "model.fit(x=padded_train,\n",
    "         y=y_train,\n",
    "         epochs=50,\n",
    "         validation_data=(padded_test, y_test), verbose=1,\n",
    "         callbacks=[early_stop]\n",
    "         )"
   ]
  },
  {
   "cell_type": "code",
   "execution_count": 12,
   "id": "19d5fbbf",
   "metadata": {
    "scrolled": true
   },
   "outputs": [],
   "source": [
    "# Set a threshold for results\n",
    "preds = (model.predict(padded_test) > 0.5).astype(\"int32\")"
   ]
  },
  {
   "cell_type": "code",
   "execution_count": 13,
   "id": "3de188a2",
   "metadata": {},
   "outputs": [
    {
     "name": "stdout",
     "output_type": "stream",
     "text": [
      "              precision    recall  f1-score   support\n",
      "\n",
      "           0       0.98      0.98      0.98       246\n",
      "           1       0.97      0.95      0.96       129\n",
      "\n",
      "    accuracy                           0.97       375\n",
      "   macro avg       0.97      0.97      0.97       375\n",
      "weighted avg       0.97      0.97      0.97       375\n",
      "\n"
     ]
    }
   ],
   "source": [
    "print(classification_report(y_test, preds))"
   ]
  }
 ],
 "metadata": {
  "kernelspec": {
   "display_name": "Python 3",
   "language": "python",
   "name": "python3"
  },
  "language_info": {
   "codemirror_mode": {
    "name": "ipython",
    "version": 3
   },
   "file_extension": ".py",
   "mimetype": "text/x-python",
   "name": "python",
   "nbconvert_exporter": "python",
   "pygments_lexer": "ipython3",
   "version": "3.8.6"
  }
 },
 "nbformat": 4,
 "nbformat_minor": 5
}
